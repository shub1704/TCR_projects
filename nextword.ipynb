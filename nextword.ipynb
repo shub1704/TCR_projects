{
 "cells": [
  {
   "cell_type": "code",
   "execution_count": 1,
   "metadata": {
    "id": "tv_nw4Gs7Qpy"
   },
   "outputs": [],
   "source": [
    "import tensorflow as tf\n",
    "import string\n",
    "import requests"
   ]
  },
  {
   "cell_type": "code",
   "execution_count": 2,
   "metadata": {
    "id": "w0i9GIdq7Rbs"
   },
   "outputs": [],
   "source": [
    "response=requests.get(\"http://www.gutenberg.org/cache/epub/5200/pg5200.txt\")\n"
   ]
  },
  {
   "cell_type": "code",
   "execution_count": 4,
   "metadata": {
    "colab": {
     "base_uri": "https://localhost:8080/",
     "height": 120
    },
    "id": "hD4Oxjpt7khW",
    "outputId": "285133fc-b7a7-491e-a95f-8b2f4f3bb96e"
   },
   "outputs": [
    {
     "data": {
      "application/vnd.google.colaboratory.intrinsic+json": {
       "type": "string"
      },
      "text/plain": [
       "'\\ufeffThe Project Gutenberg EBook of Metamorphosis, by Franz Kafka\\r\\nTranslated by David Wyllie.\\r\\n\\r\\nThis eBook is for the use of anyone anywhere at no cost and with\\r\\nalmost no restrictions whatsoever.  You may copy it, give it away or\\r\\nre-use it under the terms of the Project Gutenberg License included\\r\\nwith this eBook or online at www.gutenberg.org\\r\\n\\r\\n** This is a COPYRIGHTED Project Gutenberg eBook, Details Below **\\r\\n**     Please follow the copyright guidelines in this file.     **\\r\\n\\r\\n\\r\\nTitle: Metamorphosis\\r\\n\\r\\nAuthor: Franz Kafka\\r\\n\\r\\nTranslator: David Wyllie\\r\\n\\r\\nRelease Date: August 16, 2005 [EBook #5200]\\r\\nFirst posted: May 13, 2002\\r\\nLast updated: May 20, 2012\\r\\n\\r\\nLanguage: English\\r\\n\\r\\n\\r\\n*** START OF THIS PROJECT GUTENBERG EBOOK METAMORPHOSIS ***\\r\\n\\r\\n\\r\\n\\r\\n\\r\\nCopyright (C) 2002 David Wyllie.\\r\\n\\r\\n\\r\\n\\r\\n\\r\\n\\r\\n  Metamorphosis\\r\\n  Franz Kafka\\r\\n\\r\\nTranslated by David Wyllie\\r\\n\\r\\n\\r\\n\\r\\nI\\r\\n\\r\\n\\r\\nOne morning, when Gregor Samsa woke from troubled dreams, he found\\r\\nhimself transformed in his bed into a horrible vermin.'"
      ]
     },
     "execution_count": 4,
     "metadata": {
      "tags": []
     },
     "output_type": "execute_result"
    }
   ],
   "source": [
    "response.text[:1000]\n"
   ]
  },
  {
   "cell_type": "code",
   "execution_count": 5,
   "metadata": {
    "colab": {
     "base_uri": "https://localhost:8080/",
     "height": 35
    },
    "id": "Z3Qsyqo87xUa",
    "outputId": "5bd87e4c-c82e-4673-b38e-d4ef93bc44bc"
   },
   "outputs": [
    {
     "data": {
      "application/vnd.google.colaboratory.intrinsic+json": {
       "type": "string"
      },
      "text/plain": [
       "'\\ufeffThe Project Gutenberg EBook of Metamorphosis, by Franz Kafka\\r'"
      ]
     },
     "execution_count": 5,
     "metadata": {
      "tags": []
     },
     "output_type": "execute_result"
    }
   ],
   "source": [
    "data = response.text.split('\\n')\n",
    "data[0]\n"
   ]
  },
  {
   "cell_type": "code",
   "execution_count": 7,
   "metadata": {
    "colab": {
     "base_uri": "https://localhost:8080/",
     "height": 35
    },
    "id": "UtOlLpUW74xm",
    "outputId": "15f2662e-f9f9-4bb5-9ce3-dc46ac965fe3"
   },
   "outputs": [
    {
     "data": {
      "application/vnd.google.colaboratory.intrinsic+json": {
       "type": "string"
      },
      "text/plain": [
       "'movement, drew his foot from the living room, and rushed forward in\\r'"
      ]
     },
     "execution_count": 7,
     "metadata": {
      "tags": []
     },
     "output_type": "execute_result"
    }
   ],
   "source": [
    "data = data[300:]\n",
    "data[0]\n"
   ]
  },
  {
   "cell_type": "code",
   "execution_count": 8,
   "metadata": {
    "colab": {
     "base_uri": "https://localhost:8080/"
    },
    "id": "6KT5eUh87-J6",
    "outputId": "58d5d93e-aa9d-4d19-9805-6fbabecd6a2a"
   },
   "outputs": [
    {
     "data": {
      "text/plain": [
       "1810"
      ]
     },
     "execution_count": 8,
     "metadata": {
      "tags": []
     },
     "output_type": "execute_result"
    }
   ],
   "source": [
    "len(data)\n"
   ]
  },
  {
   "cell_type": "code",
   "execution_count": 9,
   "metadata": {
    "colab": {
     "base_uri": "https://localhost:8080/",
     "height": 120
    },
    "id": "e4PBgmY28D7C",
    "outputId": "e539a422-a5b4-4e63-e3f1-bc56592f22fd"
   },
   "outputs": [
    {
     "data": {
      "application/vnd.google.colaboratory.intrinsic+json": {
       "type": "string"
      },
      "text/plain": [
       "'movement, drew his foot from the living room, and rushed forward in\\r a panic.  In the hall, he stretched his right hand far out towards\\r the stairway as if out there, there were some supernatural force\\r waiting to save him.\\r \\r Gregor realised that it was out of the question to let the chief\\r clerk go away in this mood if his position in the firm was not to be\\r put into extreme danger.  That was something his parents did not\\r understand very well; over the years, they had become convinced that\\r this job would provide for Gregor for his entire life, and besides,\\r they had so much to worry about at present that they had lost sight\\r of any thought for the future.  Gregor, though, did think about the\\r future.  The chief clerk had to be held back, calmed down, convinced\\r and finally won over; the future of Gregor and his family depended\\r on it! If only his sister were here! She was clever; she was already\\r in tears while Gregor was still lying peacefully on his back.  And\\r the chief clerk wa'"
      ]
     },
     "execution_count": 9,
     "metadata": {
      "tags": []
     },
     "output_type": "execute_result"
    }
   ],
   "source": [
    "data = \" \".join(data)\n",
    "data[:1000]\n"
   ]
  },
  {
   "cell_type": "code",
   "execution_count": 10,
   "metadata": {
    "colab": {
     "base_uri": "https://localhost:8080/"
    },
    "id": "BmMlXxeM8Hee",
    "outputId": "c6f765c5-2f75-4629-8ac1-985885928b2c"
   },
   "outputs": [
    {
     "name": "stdout",
     "output_type": "stream",
     "text": [
      "['movement', 'drew', 'his', 'foot', 'from', 'the', 'living', 'room', 'and', 'rushed', 'forward', 'in', 'a', 'panic', 'in', 'the', 'hall', 'he', 'stretched', 'his', 'right', 'hand', 'far', 'out', 'towards', 'the', 'stairway', 'as', 'if', 'out', 'there', 'there', 'were', 'some', 'supernatural', 'force', 'waiting', 'to', 'save', 'him', 'gregor', 'realised', 'that', 'it', 'was', 'out', 'of', 'the', 'question', 'to']\n"
     ]
    }
   ],
   "source": [
    "def clean_text(doc):\n",
    " tokens = doc.split()\n",
    " table = str.maketrans('', '', string.punctuation)\n",
    " tokens = [w.translate(table) for w in tokens]\n",
    " tokens = [word for word in tokens if word.isalpha()]\n",
    " tokens = [word.lower() for word in tokens]\n",
    " return tokens\n",
    "tokens = clean_text(data)\n",
    "print(tokens[:50])\n"
   ]
  },
  {
   "cell_type": "code",
   "execution_count": 11,
   "metadata": {
    "colab": {
     "base_uri": "https://localhost:8080/"
    },
    "id": "2P0wuKlA8NiC",
    "outputId": "0d87a31e-290b-4ca0-f1a1-1437ea40154b"
   },
   "outputs": [
    {
     "data": {
      "text/plain": [
       "19140"
      ]
     },
     "execution_count": 11,
     "metadata": {
      "tags": []
     },
     "output_type": "execute_result"
    }
   ],
   "source": [
    "len(tokens)\n"
   ]
  },
  {
   "cell_type": "code",
   "execution_count": 13,
   "metadata": {
    "colab": {
     "base_uri": "https://localhost:8080/"
    },
    "id": "vgQpMjnQ8TWG",
    "outputId": "38f871ff-1ade-4140-d9cf-d43404370b9e"
   },
   "outputs": [
    {
     "name": "stdout",
     "output_type": "stream",
     "text": [
      "19089\n"
     ]
    }
   ],
   "source": [
    "length = 50 + 1\n",
    "lines = []\n",
    "for i in range(length, len(tokens)):\n",
    " seq = tokens[i-length:i]\n",
    " line = ' '.join(seq)\n",
    " lines.append(line)\n",
    " if i > 200000:\n",
    "  break\n",
    "print(len(lines))\n"
   ]
  },
  {
   "cell_type": "markdown",
   "metadata": {
    "id": "urv7wNMg8hPM"
   },
   "source": [
    "## Build LSTM Model and Prepare X and y"
   ]
  },
  {
   "cell_type": "code",
   "execution_count": 14,
   "metadata": {
    "id": "qCUM-65X8X7y"
   },
   "outputs": [],
   "source": [
    "import numpy as np\n",
    "from tensorflow.keras.preprocessing.text import Tokenizer\n",
    "from tensorflow.keras.utils import to_categorical\n",
    "from tensorflow.keras.models import Sequential\n",
    "from tensorflow.keras.layers import Dense, LSTM, Embedding\n",
    "from tensorflow.keras.preprocessing.sequence import pad_sequences\n"
   ]
  },
  {
   "cell_type": "code",
   "execution_count": 15,
   "metadata": {
    "id": "nAbeWnkI8m5J"
   },
   "outputs": [],
   "source": [
    "tokenizer = Tokenizer()\n",
    "tokenizer.fit_on_texts(lines)\n",
    "sequences = tokenizer.texts_to_sequences(lines)"
   ]
  },
  {
   "cell_type": "code",
   "execution_count": 16,
   "metadata": {
    "colab": {
     "base_uri": "https://localhost:8080/"
    },
    "id": "7hPRh2v_8r_t",
    "outputId": "ebcc9ebf-0565-4f48-83e5-dc3b9a4ca144"
   },
   "outputs": [
    {
     "data": {
      "text/plain": [
       "array([ 888,  887,    5,  452,   29,    1,  165,   27,    3,  451,  291,\n",
       "          7,   12, 1282,    7,    1,  886,    6,  663,    5,  206,  144,\n",
       "        344,   38,  343,    1, 1281,   14,   32,   38,   42,   42,   58,\n",
       "         75, 2655,  531,  885,    2,  661,   21,   19,  342,   11,   10,\n",
       "          8,   38,    4,    1,  447,    2])"
      ]
     },
     "execution_count": 16,
     "metadata": {
      "tags": []
     },
     "output_type": "execute_result"
    }
   ],
   "source": [
    "sequences = np.array(sequences)\n",
    "X, y = sequences[:, :-1], sequences[:,-1]\n",
    "X[0]\n"
   ]
  },
  {
   "cell_type": "code",
   "execution_count": 17,
   "metadata": {
    "id": "NA1jnQ-H8v6p"
   },
   "outputs": [],
   "source": [
    "\n",
    "vocab_size = len(tokenizer.word_index) + 1\n"
   ]
  },
  {
   "cell_type": "code",
   "execution_count": 18,
   "metadata": {
    "id": "vJSj3rnl8zAV"
   },
   "outputs": [],
   "source": [
    "y = to_categorical(y, num_classes=vocab_size)\n"
   ]
  },
  {
   "cell_type": "code",
   "execution_count": 19,
   "metadata": {
    "colab": {
     "base_uri": "https://localhost:8080/"
    },
    "id": "HxP_Fm1-82AB",
    "outputId": "0e9cca69-db6d-4e06-ad03-79f000ba5701"
   },
   "outputs": [
    {
     "data": {
      "text/plain": [
       "50"
      ]
     },
     "execution_count": 19,
     "metadata": {
      "tags": []
     },
     "output_type": "execute_result"
    }
   ],
   "source": [
    "seq_length = X.shape[1]\n",
    "seq_length"
   ]
  },
  {
   "cell_type": "markdown",
   "metadata": {
    "id": "J_Fu7RCa885a"
   },
   "source": [
    "LSTM Model\n",
    "## New Section"
   ]
  },
  {
   "cell_type": "code",
   "execution_count": 20,
   "metadata": {
    "id": "U9hz1Czo85Bl"
   },
   "outputs": [],
   "source": [
    "model = Sequential()\n",
    "model.add(Embedding(vocab_size, 50, input_length=seq_length))\n",
    "model.add(LSTM(100, return_sequences=True))\n",
    "model.add(LSTM(100))\n",
    "model.add(Dense(100, activation='relu'))\n",
    "model.add(Dense(vocab_size, activation='softmax'))\n"
   ]
  },
  {
   "cell_type": "code",
   "execution_count": 21,
   "metadata": {
    "colab": {
     "base_uri": "https://localhost:8080/"
    },
    "id": "1P10_-a_9DuZ",
    "outputId": "14a43bd2-32e0-45a7-9d05-ec2cdfd107cc"
   },
   "outputs": [
    {
     "name": "stdout",
     "output_type": "stream",
     "text": [
      "Model: \"sequential\"\n",
      "_________________________________________________________________\n",
      "Layer (type)                 Output Shape              Param #   \n",
      "=================================================================\n",
      "embedding (Embedding)        (None, 50, 50)            132950    \n",
      "_________________________________________________________________\n",
      "lstm (LSTM)                  (None, 50, 100)           60400     \n",
      "_________________________________________________________________\n",
      "lstm_1 (LSTM)                (None, 100)               80400     \n",
      "_________________________________________________________________\n",
      "dense (Dense)                (None, 100)               10100     \n",
      "_________________________________________________________________\n",
      "dense_1 (Dense)              (None, 2659)              268559    \n",
      "=================================================================\n",
      "Total params: 552,409\n",
      "Trainable params: 552,409\n",
      "Non-trainable params: 0\n",
      "_________________________________________________________________\n"
     ]
    }
   ],
   "source": [
    "model.summary()\n"
   ]
  },
  {
   "cell_type": "code",
   "execution_count": 22,
   "metadata": {
    "id": "dTIv1HLL9JxF"
   },
   "outputs": [],
   "source": [
    "model.compile(loss = 'categorical_crossentropy', optimizer = 'adam', metrics = ['accuracy'])\n"
   ]
  },
  {
   "cell_type": "code",
   "execution_count": 24,
   "metadata": {
    "colab": {
     "base_uri": "https://localhost:8080/"
    },
    "id": "UzGlK-g79PA1",
    "outputId": "e572576a-2fe8-4e8e-9f2a-c7eb6e356616"
   },
   "outputs": [
    {
     "name": "stdout",
     "output_type": "stream",
     "text": [
      "Epoch 1/20\n",
      "75/75 [==============================] - 33s 435ms/step - loss: 6.2934 - accuracy: 0.0530\n",
      "Epoch 2/20\n",
      "75/75 [==============================] - 33s 438ms/step - loss: 6.1567 - accuracy: 0.0534\n",
      "Epoch 3/20\n",
      "75/75 [==============================] - 32s 431ms/step - loss: 6.1341 - accuracy: 0.0534\n",
      "Epoch 4/20\n",
      "75/75 [==============================] - 32s 432ms/step - loss: 6.0245 - accuracy: 0.0534\n",
      "Epoch 5/20\n",
      "75/75 [==============================] - 33s 439ms/step - loss: 5.9400 - accuracy: 0.0534\n",
      "Epoch 6/20\n",
      "75/75 [==============================] - 34s 447ms/step - loss: 5.8209 - accuracy: 0.0587\n",
      "Epoch 7/20\n",
      "75/75 [==============================] - 33s 442ms/step - loss: 5.7115 - accuracy: 0.0657\n",
      "Epoch 8/20\n",
      "75/75 [==============================] - 33s 443ms/step - loss: 5.6256 - accuracy: 0.0685\n",
      "Epoch 9/20\n",
      "75/75 [==============================] - 33s 446ms/step - loss: 5.5516 - accuracy: 0.0723\n",
      "Epoch 10/20\n",
      "75/75 [==============================] - 33s 439ms/step - loss: 5.4882 - accuracy: 0.0767\n",
      "Epoch 11/20\n",
      "75/75 [==============================] - 33s 445ms/step - loss: 5.4193 - accuracy: 0.0800\n",
      "Epoch 12/20\n",
      "75/75 [==============================] - 33s 444ms/step - loss: 5.3467 - accuracy: 0.0861\n",
      "Epoch 13/20\n",
      "75/75 [==============================] - 33s 444ms/step - loss: 5.2714 - accuracy: 0.0920\n",
      "Epoch 14/20\n",
      "75/75 [==============================] - 33s 442ms/step - loss: 5.1985 - accuracy: 0.0933\n",
      "Epoch 15/20\n",
      "75/75 [==============================] - 33s 435ms/step - loss: 5.2202 - accuracy: 0.0945\n",
      "Epoch 16/20\n",
      "75/75 [==============================] - 33s 439ms/step - loss: 5.1782 - accuracy: 0.0950\n",
      "Epoch 17/20\n",
      "75/75 [==============================] - 33s 438ms/step - loss: 5.0366 - accuracy: 0.1026\n",
      "Epoch 18/20\n",
      "75/75 [==============================] - 33s 436ms/step - loss: 4.9320 - accuracy: 0.1090\n",
      "Epoch 19/20\n",
      "75/75 [==============================] - 33s 439ms/step - loss: 4.8597 - accuracy: 0.1121\n",
      "Epoch 20/20\n",
      "75/75 [==============================] - 33s 438ms/step - loss: 4.7953 - accuracy: 0.1171\n"
     ]
    },
    {
     "data": {
      "text/plain": [
       "<tensorflow.python.keras.callbacks.History at 0x7f8aacb69ad0>"
      ]
     },
     "execution_count": 24,
     "metadata": {
      "tags": []
     },
     "output_type": "execute_result"
    }
   ],
   "source": [
    "model.fit(X, y, batch_size = 256, epochs = 20)\n"
   ]
  },
  {
   "cell_type": "code",
   "execution_count": 25,
   "metadata": {
    "colab": {
     "base_uri": "https://localhost:8080/",
     "height": 52
    },
    "id": "jbJCN0as9XK5",
    "outputId": "8552b92e-5d80-4c29-e965-38300f3aeb22"
   },
   "outputs": [
    {
     "data": {
      "application/vnd.google.colaboratory.intrinsic+json": {
       "type": "string"
      },
      "text/plain": [
       "'disappointed that they had had enough of the whole performance and it was only now out of politeness that they allowed their peace to be disturbed it was especially unnerving the way they all blew the smoke from their cigarettes upwards from their mouth and noses yet gregors sister was playing'"
      ]
     },
     "execution_count": 25,
     "metadata": {
      "tags": []
     },
     "output_type": "execute_result"
    }
   ],
   "source": [
    "seed_text=lines[12343]\n",
    "seed_text\n"
   ]
  },
  {
   "cell_type": "code",
   "execution_count": 27,
   "metadata": {
    "id": "UTVKLBWFAGVy"
   },
   "outputs": [],
   "source": [
    "def generate_text_seq(model, tokenizer, text_seq_length, seed_text, n_words):\n",
    " text = []\n",
    " for _ in range(n_words):\n",
    "    encoded = tokenizer.texts_to_sequences([seed_text])[0]\n",
    "    encoded = pad_sequences([encoded], maxlen = text_seq_length, truncating='pre')\n",
    "    y_predict = model.predict_classes(encoded)\n",
    "    predicted_word = ''\n",
    "    for word, index in tokenizer.word_index.items():\n",
    "      if index == y_predict:\n",
    "        predicted_word = word\n",
    "      break\n",
    "    seed_text = seed_text + ' ' + predicted_word\n",
    "    text.append(predicted_word)\n",
    " return ' '.join(text)\n"
   ]
  },
  {
   "cell_type": "code",
   "execution_count": 30,
   "metadata": {
    "colab": {
     "base_uri": "https://localhost:8080/",
     "height": 89
    },
    "id": "cUe7A_fmALHY",
    "outputId": "bc340b4b-f661-427c-fb91-027033731d51"
   },
   "outputs": [
    {
     "name": "stderr",
     "output_type": "stream",
     "text": [
      "/usr/local/lib/python3.7/dist-packages/tensorflow/python/keras/engine/sequential.py:455: UserWarning: `model.predict_classes()` is deprecated and will be removed after 2021-01-01. Please use instead:* `np.argmax(model.predict(x), axis=-1)`,   if your model does multi-class classification   (e.g. if it uses a `softmax` last-layer activation).* `(model.predict(x) > 0.5).astype(\"int32\")`,   if your model does binary classification   (e.g. if it uses a `sigmoid` last-layer activation).\n",
      "  warnings.warn('`model.predict_classes()` is deprecated and '\n"
     ]
    },
    {
     "data": {
      "application/vnd.google.colaboratory.intrinsic+json": {
       "type": "string"
      },
      "text/plain": [
       "'the                                                                                                   '"
      ]
     },
     "execution_count": 30,
     "metadata": {
      "tags": []
     },
     "output_type": "execute_result"
    }
   ],
   "source": [
    "generate_text_seq(model, tokenizer, seq_length, seed_text, 100)\n"
   ]
  },
  {
   "cell_type": "code",
   "execution_count": null,
   "metadata": {
    "id": "kcSw3xYJAkhA"
   },
   "outputs": [],
   "source": []
  }
 ],
 "metadata": {
  "colab": {
   "collapsed_sections": [],
   "name": "Untitled1.ipynb",
   "provenance": []
  },
  "kernelspec": {
   "display_name": "Python 3",
   "language": "python",
   "name": "python3"
  },
  "language_info": {
   "codemirror_mode": {
    "name": "ipython",
    "version": 3
   },
   "file_extension": ".py",
   "mimetype": "text/x-python",
   "name": "python",
   "nbconvert_exporter": "python",
   "pygments_lexer": "ipython3",
   "version": "3.8.5"
  }
 },
 "nbformat": 4,
 "nbformat_minor": 1
}
